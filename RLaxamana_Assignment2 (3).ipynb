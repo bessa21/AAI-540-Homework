{
 "cells": [
  {
   "cell_type": "markdown",
   "id": "b02276da-a544-4e17-9ff7-06d3981b4708",
   "metadata": {
    "tags": []
   },
   "source": [
    "# Set Up Athena and Data Lake Queries"
   ]
  },
  {
   "cell_type": "code",
   "execution_count": 8,
   "id": "4747182d-2980-4f96-9a30-e4b5767ee748",
   "metadata": {
    "tags": []
   },
   "outputs": [
    {
     "name": "stderr",
     "output_type": "stream",
     "text": [
      "/tmp/ipykernel_2888/2226939753.py:20: UserWarning: pandas only supports SQLAlchemy connectable (engine/connection) or database string URI or sqlite3 DBAPI2 connection. Other DBAPI2 objects are not tested. Please consider using SQLAlchemy.\n",
      "  return pd.read_sql(statement, conn)\n"
     ]
    },
    {
     "name": "stdout",
     "output_type": "stream",
     "text": [
      "    tab_name\n",
      "0   datalake\n",
      "1  datalake2\n"
     ]
    }
   ],
   "source": [
    "import boto3\n",
    "import pandas as pd\n",
    "from pyathena import connect\n",
    "\n",
    "# Session and S3 setup\n",
    "sess = boto3.Session()\n",
    "s3_staging_dir = \"s3://sagemaker-us-east-1-152605355048/athena/staging/\"\n",
    "region = sess.region_name\n",
    "\n",
    "# Athena connection setup\n",
    "conn = connect(region_name=region, s3_staging_dir=s3_staging_dir)\n",
    "\n",
    "# Database and table names\n",
    "database_name = \"homework2\"\n",
    "table_name_csv = \"datalake2\"\n",
    "\n",
    "# Function to run SQL queries\n",
    "def run_query(statement):\n",
    "    try:\n",
    "        return pd.read_sql(statement, conn)\n",
    "    except Exception as e:\n",
    "        print(f\"Failed to execute query: {e}\")\n",
    "\n",
    "# Verify if the table is created successfully\n",
    "statement = \"SHOW TABLES in {}\".format(database_name)\n",
    "df_show = run_query(statement)\n",
    "print(df_show.head())\n"
   ]
  },
  {
   "cell_type": "markdown",
   "id": "34936763-5ca3-478b-a068-4bbdd47c2ee0",
   "metadata": {},
   "source": [
    "# SQL Queries:"
   ]
  },
  {
   "cell_type": "markdown",
   "id": "efd49bf4-f5a7-4634-b211-6c6738c0d9c2",
   "metadata": {},
   "source": [
    "## 1. List artist, track_name, and popularity for songs that have a popularity greater than or equal to 99"
   ]
  },
  {
   "cell_type": "code",
   "execution_count": 9,
   "id": "bb5b5cb2-29b7-4e55-8e65-723ce1dad07e",
   "metadata": {
    "tags": []
   },
   "outputs": [
    {
     "name": "stderr",
     "output_type": "stream",
     "text": [
      "/tmp/ipykernel_2888/2226939753.py:20: UserWarning: pandas only supports SQLAlchemy connectable (engine/connection) or database string URI or sqlite3 DBAPI2 connection. Other DBAPI2 objects are not tested. Please consider using SQLAlchemy.\n",
      "  return pd.read_sql(statement, conn)\n"
     ]
    },
    {
     "name": "stdout",
     "output_type": "stream",
     "text": [
      "               artists                 track_name  popularity\n",
      "0  Sam SmithKim Petras  Unholy (feat. Kim Petras)         100\n",
      "1  Sam SmithKim Petras  Unholy (feat. Kim Petras)         100\n"
     ]
    }
   ],
   "source": [
    "statement = \"\"\"\n",
    "SELECT artists, track_name, popularity\n",
    "FROM {}.{}\n",
    "WHERE popularity >= 99\n",
    "\"\"\".format(database_name, table_name_csv)\n",
    "df_sql = run_query(statement)\n",
    "print(df_sql)\n"
   ]
  },
  {
   "cell_type": "markdown",
   "id": "25202dd4-2fcf-4723-bae6-312e950e320a",
   "metadata": {},
   "source": [
    "##   2. List artists with an average popularity of 92"
   ]
  },
  {
   "cell_type": "code",
   "execution_count": 11,
   "id": "a0496d73-1bb8-4104-a735-fe1ac144ff43",
   "metadata": {
    "tags": []
   },
   "outputs": [
    {
     "name": "stderr",
     "output_type": "stream",
     "text": [
      "/tmp/ipykernel_2888/3528674370.py:10: UserWarning: pandas only supports SQLAlchemy connectable (engine/connection) or database string URI or sqlite3 DBAPI2 connection. Other DBAPI2 objects are not tested. Please consider using SQLAlchemy.\n",
      "  df = pd.read_sql(statement, conn)\n"
     ]
    },
    {
     "name": "stdout",
     "output_type": "stream",
     "text": [
      "            artists  avg_popularity\n",
      "0      Harry Styles            92.0\n",
      "1  RemaSelena Gomez            92.0\n"
     ]
    }
   ],
   "source": [
    "statement = \"\"\"\n",
    "SELECT artists, AVG(popularity) as avg_popularity\n",
    "FROM {}.{}\n",
    "GROUP BY artists\n",
    "HAVING AVG(popularity) = 92\n",
    "\"\"\".format(database_name, table_name_csv)\n",
    "\n",
    "# Execute the query\n",
    "try:\n",
    "    df = pd.read_sql(statement, conn)\n",
    "    print(df)\n",
    "except Exception as e:\n",
    "    print(f\"Failed to execute query: {e}\")"
   ]
  },
  {
   "cell_type": "markdown",
   "id": "a9b81482-ef3d-4555-a321-842c3731bfba",
   "metadata": {},
   "source": [
    "## 3. List the Top 10 most energetic genres"
   ]
  },
  {
   "cell_type": "code",
   "execution_count": 12,
   "id": "bd247439-e765-4c79-8a23-684efcff5c29",
   "metadata": {
    "tags": []
   },
   "outputs": [
    {
     "name": "stderr",
     "output_type": "stream",
     "text": [
      "/tmp/ipykernel_2888/3955700541.py:11: UserWarning: pandas only supports SQLAlchemy connectable (engine/connection) or database string URI or sqlite3 DBAPI2 connection. Other DBAPI2 objects are not tested. Please consider using SQLAlchemy.\n",
      "  df = pd.read_sql(statement, conn)\n"
     ]
    },
    {
     "name": "stdout",
     "output_type": "stream",
     "text": [
      "  track_genre  avg_energy\n",
      "0       0.797   1174026.0\n",
      "1       0.556    691306.0\n",
      "2       0.492    542000.0\n",
      "3        0.45    538160.0\n",
      "4       0.347    526706.0\n",
      "5      0.0761    502786.0\n",
      "6      0.0903    449813.0\n",
      "7       0.035    440310.0\n",
      "8       0.483    371160.0\n",
      "9       0.147    355693.0\n"
     ]
    }
   ],
   "source": [
    "statement = \"\"\"\n",
    "SELECT track_genre, AVG(energy) as avg_energy\n",
    "FROM {}.{}\n",
    "GROUP BY track_genre\n",
    "ORDER BY avg_energy DESC\n",
    "LIMIT 10\n",
    "\"\"\".format(database_name, table_name_csv)\n",
    "\n",
    "# Execute the query\n",
    "try:\n",
    "    df = pd.read_sql(statement, conn)\n",
    "    print(df)\n",
    "except Exception as e:\n",
    "    print(f\"Failed to execute query: {e}\")"
   ]
  },
  {
   "cell_type": "markdown",
   "id": "237f40a1-616b-4edf-b3b7-ad84d1430f5b",
   "metadata": {},
   "source": [
    "## 4. How many tracks is Bad Bunny on?"
   ]
  },
  {
   "cell_type": "code",
   "execution_count": 13,
   "id": "689cf3c1-8e94-4f72-af41-26c64011f948",
   "metadata": {
    "tags": []
   },
   "outputs": [
    {
     "name": "stderr",
     "output_type": "stream",
     "text": [
      "/tmp/ipykernel_2888/1972276672.py:8: UserWarning: pandas only supports SQLAlchemy connectable (engine/connection) or database string URI or sqlite3 DBAPI2 connection. Other DBAPI2 objects are not tested. Please consider using SQLAlchemy.\n",
      "  df = pd.read_sql(statement, conn)\n"
     ]
    },
    {
     "name": "stdout",
     "output_type": "stream",
     "text": [
      "   track_count\n",
      "0          416\n"
     ]
    }
   ],
   "source": [
    "statement = \"\"\"\n",
    "SELECT COUNT(*) as track_count\n",
    "FROM {}.{}\n",
    "WHERE artists LIKE '%Bad Bunny%'\n",
    "\"\"\".format(database_name, table_name_csv)\n",
    "# Execute the query\n",
    "try:\n",
    "    df = pd.read_sql(statement, conn)\n",
    "    print(df)\n",
    "except Exception as e:\n",
    "    print(f\"Failed to execute query: {e}\")"
   ]
  },
  {
   "cell_type": "markdown",
   "id": "c846b215-b637-40e2-94fc-3f3aa120caf5",
   "metadata": {},
   "source": [
    "## 5. Show the top 10 genres in terms of popularity sorted by their most popular track"
   ]
  },
  {
   "cell_type": "code",
   "execution_count": 14,
   "id": "53873c6e-cfbc-4727-abd1-bc0ee77968af",
   "metadata": {
    "tags": []
   },
   "outputs": [
    {
     "name": "stderr",
     "output_type": "stream",
     "text": [
      "/tmp/ipykernel_2888/3815318429.py:11: UserWarning: pandas only supports SQLAlchemy connectable (engine/connection) or database string URI or sqlite3 DBAPI2 connection. Other DBAPI2 objects are not tested. Please consider using SQLAlchemy.\n",
      "  df = pd.read_sql(statement, conn)\n"
     ]
    },
    {
     "name": "stdout",
     "output_type": "stream",
     "text": [
      "  track_genre  max_popularity\n",
      "0         pop             100\n",
      "1       dance             100\n",
      "2         edm              98\n",
      "3      latino              98\n",
      "4       latin              98\n",
      "5   reggaeton              98\n",
      "6      reggae              98\n",
      "7       piano              96\n",
      "8        rock              96\n",
      "9       chill              93\n"
     ]
    }
   ],
   "source": [
    "statement = \"\"\"\n",
    "SELECT track_genre, MAX(popularity) as max_popularity\n",
    "FROM {}.{}\n",
    "GROUP BY track_genre\n",
    "ORDER BY max_popularity DESC\n",
    "LIMIT 10\n",
    "\"\"\".format(database_name, table_name_csv)\n",
    "\n",
    "# Execute the query\n",
    "try:\n",
    "    df = pd.read_sql(statement, conn)\n",
    "    print(df)\n",
    "except Exception as e:\n",
    "    print(f\"Failed to execute query: {e}\")"
   ]
  },
  {
   "cell_type": "markdown",
   "id": "59b608fc-ccb8-459e-9463-daa64c566da1",
   "metadata": {},
   "source": [
    "# Set up AWS Data Wrangler"
   ]
  },
  {
   "cell_type": "code",
   "execution_count": 15,
   "id": "5e6332c2-be78-4f33-9b81-5fcfbb5145da",
   "metadata": {
    "tags": []
   },
   "outputs": [
    {
     "name": "stdout",
     "output_type": "stream",
     "text": [
      "Requirement already satisfied: awswrangler in /opt/conda/lib/python3.10/site-packages (3.9.1)\n",
      "Requirement already satisfied: boto3<2.0.0,>=1.20.32 in /opt/conda/lib/python3.10/site-packages (from awswrangler) (1.34.84)\n",
      "Requirement already satisfied: botocore<2.0.0,>=1.23.32 in /opt/conda/lib/python3.10/site-packages (from awswrangler) (1.34.84)\n",
      "Requirement already satisfied: numpy<2.0,>=1.18 in /opt/conda/lib/python3.10/site-packages (from awswrangler) (1.26.4)\n",
      "Requirement already satisfied: packaging<25.0,>=21.1 in /opt/conda/lib/python3.10/site-packages (from awswrangler) (23.2)\n",
      "Requirement already satisfied: pandas<3.0.0,>=1.2.0 in /opt/conda/lib/python3.10/site-packages (from awswrangler) (2.2.2)\n",
      "Requirement already satisfied: pyarrow>=8.0.0 in /opt/conda/lib/python3.10/site-packages (from awswrangler) (15.0.2)\n",
      "Requirement already satisfied: typing-extensions<5.0.0,>=4.4.0 in /opt/conda/lib/python3.10/site-packages (from awswrangler) (4.11.0)\n",
      "Requirement already satisfied: jmespath<2.0.0,>=0.7.1 in /opt/conda/lib/python3.10/site-packages (from boto3<2.0.0,>=1.20.32->awswrangler) (1.0.1)\n",
      "Requirement already satisfied: s3transfer<0.11.0,>=0.10.0 in /opt/conda/lib/python3.10/site-packages (from boto3<2.0.0,>=1.20.32->awswrangler) (0.10.1)\n",
      "Requirement already satisfied: python-dateutil<3.0.0,>=2.1 in /opt/conda/lib/python3.10/site-packages (from botocore<2.0.0,>=1.23.32->awswrangler) (2.9.0)\n",
      "Requirement already satisfied: urllib3!=2.2.0,<3,>=1.25.4 in /opt/conda/lib/python3.10/site-packages (from botocore<2.0.0,>=1.23.32->awswrangler) (2.2.1)\n",
      "Requirement already satisfied: pytz>=2020.1 in /opt/conda/lib/python3.10/site-packages (from pandas<3.0.0,>=1.2.0->awswrangler) (2024.1)\n",
      "Requirement already satisfied: tzdata>=2022.7 in /opt/conda/lib/python3.10/site-packages (from pandas<3.0.0,>=1.2.0->awswrangler) (2024.1)\n",
      "Requirement already satisfied: six>=1.5 in /opt/conda/lib/python3.10/site-packages (from python-dateutil<3.0.0,>=2.1->botocore<2.0.0,>=1.23.32->awswrangler) (1.16.0)\n",
      "\u001b[33mWARNING: Running pip as the 'root' user can result in broken permissions and conflicting behaviour with the system package manager, possibly rendering your system unusable.It is recommended to use a virtual environment instead: https://pip.pypa.io/warnings/venv. Use the --root-user-action option if you know what you are doing and want to suppress this warning.\u001b[0m\u001b[33m\n",
      "\u001b[0m"
     ]
    }
   ],
   "source": [
    "!pip install awswrangler\n"
   ]
  },
  {
   "cell_type": "code",
   "execution_count": 16,
   "id": "df37ec7b-1360-4fd4-b479-cafdf5a72cba",
   "metadata": {
    "tags": []
   },
   "outputs": [
    {
     "name": "stdout",
     "output_type": "stream",
     "text": [
      "                 artists                 track_name  popularity  duration_ms  \\\n",
      "0            Gen Hoshino                     Comedy          73       230666   \n",
      "1           Ben Woodward           Ghost - Acoustic          55       149610   \n",
      "2  Ingrid MichaelsonZAYN             To Begin Again          57       210826   \n",
      "3           Kina Grannis  Cant Help Falling In Love          71       201933   \n",
      "4       Chord Overstreet                    Hold On          82       198853   \n",
      "\n",
      "   explicit  danceability  energy  key  loudness  mode  speechiness  \\\n",
      "0     False         0.676  0.4610    1    -6.746     0       0.1430   \n",
      "1     False         0.420  0.1660    1   -17.235     1       0.0763   \n",
      "2     False         0.438  0.3590    0    -9.734     1       0.0557   \n",
      "3     False         0.266  0.0596    0   -18.515     1       0.0363   \n",
      "4     False         0.618  0.4430    2    -9.681     1       0.0526   \n",
      "\n",
      "   acousticness  instrumentalness  liveness  valence    tempo  time_signature  \\\n",
      "0        0.0322          0.000001    0.3580    0.715   87.917               4   \n",
      "1        0.9240          0.000006    0.1010    0.267   77.489               4   \n",
      "2        0.2100          0.000000    0.1170    0.120   76.332               4   \n",
      "3        0.9050          0.000071    0.1320    0.143  181.740               3   \n",
      "4        0.4690          0.000000    0.0829    0.167  119.949               4   \n",
      "\n",
      "  track_genre  \n",
      "0    acoustic  \n",
      "1    acoustic  \n",
      "2    acoustic  \n",
      "3    acoustic  \n",
      "4    acoustic  \n"
     ]
    }
   ],
   "source": [
    "import awswrangler as wr\n",
    "import pandas as pd\n",
    "\n",
    "# S3 bucket where your dataset is located\n",
    "bucket = 'sagemaker-us-east-1-152605355048 '\n",
    "csv_file_path = f\"s3://sagemaker-us-east-1-152605355048/homework2_dataset/csv/\"\n",
    "\n",
    "# Load CSV data into pandas dataframe using AWS Data Wrangler\n",
    "df = wr.s3.read_csv(path=csv_file_path)\n",
    "\n",
    "# Preview the first few rows of the dataframe\n",
    "print(df.head())\n"
   ]
  },
  {
   "cell_type": "markdown",
   "id": "dc63739b-6b56-4c2c-8513-b91682158940",
   "metadata": {},
   "source": [
    "# Panda Queries:"
   ]
  },
  {
   "cell_type": "markdown",
   "id": "77c374b9-4ce1-475b-a1bf-5df8733cca5d",
   "metadata": {},
   "source": [
    "## 1. List artist, track_name, and popularity for songs that have a popularity greater than or equal to 99"
   ]
  },
  {
   "cell_type": "code",
   "execution_count": 17,
   "id": "6a333498-c4f4-4d8f-a538-5f900235e33c",
   "metadata": {
    "tags": []
   },
   "outputs": [
    {
     "name": "stdout",
     "output_type": "stream",
     "text": [
      "                   artists                             track_name  popularity\n",
      "20001  Sam SmithKim Petras              Unholy (feat. Kim Petras)         100\n",
      "51664      BizarrapQuevedo  Quevedo: Bzrp Music Sessions, Vol. 52          99\n",
      "81051  Sam SmithKim Petras              Unholy (feat. Kim Petras)         100\n"
     ]
    }
   ],
   "source": [
    "# Query for songs with popularity >= 99\n",
    "df_popular = df[df['popularity'] >= 99][['artists', 'track_name', 'popularity']]\n",
    "print(df_popular)\n"
   ]
  },
  {
   "cell_type": "markdown",
   "id": "fa17ef56-349e-49bd-925d-11b9f18cfe51",
   "metadata": {},
   "source": [
    "## 2. List artists with an average popularity of 92"
   ]
  },
  {
   "cell_type": "code",
   "execution_count": 18,
   "id": "5afaed1d-f9b8-4492-9008-f99529a2fdee",
   "metadata": {
    "tags": []
   },
   "outputs": [
    {
     "name": "stdout",
     "output_type": "stream",
     "text": [
      "                artists  popularity\n",
      "11487      Harry Styles        92.0\n",
      "22842  RemaSelena Gomez        92.0\n"
     ]
    }
   ],
   "source": [
    "# Group by artists and calculate the mean popularity\n",
    "df_avg_pop = df.groupby('artists')['popularity'].mean().reset_index()\n",
    "\n",
    "# Filter artists with average popularity of 92\n",
    "df_avg_92 = df_avg_pop[df_avg_pop['popularity'] == 92]\n",
    "print(df_avg_92)\n"
   ]
  },
  {
   "cell_type": "markdown",
   "id": "cfa20592-2638-4142-b552-96e6fb50999b",
   "metadata": {},
   "source": [
    "## 3. List the Top 10 most energetic genres"
   ]
  },
  {
   "cell_type": "code",
   "execution_count": 19,
   "id": "effc77cd-dee1-42ad-8f1d-f3abdda55c10",
   "metadata": {
    "tags": []
   },
   "outputs": [
    {
     "name": "stdout",
     "output_type": "stream",
     "text": [
      "      track_genre    energy\n",
      "22    death-metal  0.931470\n",
      "42      grindcore  0.924201\n",
      "72      metalcore  0.914485\n",
      "46          happy  0.910971\n",
      "49      hardstyle  0.901246\n",
      "27  drum-and-bass  0.876635\n",
      "6     black-metal  0.874897\n",
      "50    heavy-metal  0.874003\n",
      "78          party  0.871237\n",
      "61         j-idol  0.868677\n"
     ]
    }
   ],
   "source": [
    "# Group by track_genre and calculate the mean energy, then sort by energy and select the top 10\n",
    "df_top_genres_energy = df.groupby('track_genre')['energy'].mean().reset_index()\n",
    "df_top_genres_energy = df_top_genres_energy.sort_values(by='energy', ascending=False).head(10)\n",
    "print(df_top_genres_energy)\n"
   ]
  },
  {
   "cell_type": "markdown",
   "id": "ef52d66e-f10f-4850-8180-9e0aa675a60e",
   "metadata": {},
   "source": [
    "## 4. How many tracks is Bad Bunny on?"
   ]
  },
  {
   "cell_type": "code",
   "execution_count": 21,
   "id": "3984348d-4a73-47c1-8266-36056c679408",
   "metadata": {
    "tags": []
   },
   "outputs": [
    {
     "name": "stdout",
     "output_type": "stream",
     "text": [
      "Number of tracks Bad Bunny is on: 416\n"
     ]
    }
   ],
   "source": [
    "# Fill NaN values with an empty string and then filter for 'Bad Bunny'\n",
    "df_bad_bunny = df[df['artists'].fillna('').str.contains('Bad Bunny', case=False)]\n",
    "\n",
    "# Output the number of tracks\n",
    "print(f\"Number of tracks Bad Bunny is on: {df_bad_bunny.shape[0]}\")\n",
    "\n"
   ]
  },
  {
   "cell_type": "markdown",
   "id": "1199e9f7-4ee3-4694-8e37-fa1e00ad6a6d",
   "metadata": {},
   "source": [
    "## 5. Show the top 10 genres in terms of popularity sorted by their most popular track"
   ]
  },
  {
   "cell_type": "code",
   "execution_count": 22,
   "id": "d8f9bcc4-cb6d-4aa4-89ca-edc7a3839832",
   "metadata": {
    "tags": []
   },
   "outputs": [
    {
     "name": "stdout",
     "output_type": "stream",
     "text": [
      "   track_genre  popularity\n",
      "80         pop         100\n",
      "20       dance         100\n",
      "51     hip-hop          99\n",
      "68      latino          98\n",
      "89   reggaeton          98\n",
      "30         edm          98\n",
      "67       latin          98\n",
      "88      reggae          98\n",
      "79       piano          96\n",
      "90        rock          96\n"
     ]
    }
   ],
   "source": [
    "# Group by track_genre and calculate the max popularity, then sort by popularity and select the top 10\n",
    "df_top_genres_pop = df.groupby('track_genre')['popularity'].max().reset_index()\n",
    "df_top_genres_pop = df_top_genres_pop.sort_values(by='popularity', ascending=False).head(10)\n",
    "print(df_top_genres_pop)\n"
   ]
  },
  {
   "cell_type": "code",
   "execution_count": null,
   "id": "860aaf7f-0ba5-4dcb-9a2e-557ac07161ee",
   "metadata": {},
   "outputs": [],
   "source": []
  }
 ],
 "metadata": {
  "availableInstances": [
   {
    "_defaultOrder": 0,
    "_isFastLaunch": true,
    "category": "General purpose",
    "gpuNum": 0,
    "hideHardwareSpecs": false,
    "memoryGiB": 4,
    "name": "ml.t3.medium",
    "vcpuNum": 2
   },
   {
    "_defaultOrder": 1,
    "_isFastLaunch": false,
    "category": "General purpose",
    "gpuNum": 0,
    "hideHardwareSpecs": false,
    "memoryGiB": 8,
    "name": "ml.t3.large",
    "vcpuNum": 2
   },
   {
    "_defaultOrder": 2,
    "_isFastLaunch": false,
    "category": "General purpose",
    "gpuNum": 0,
    "hideHardwareSpecs": false,
    "memoryGiB": 16,
    "name": "ml.t3.xlarge",
    "vcpuNum": 4
   },
   {
    "_defaultOrder": 3,
    "_isFastLaunch": false,
    "category": "General purpose",
    "gpuNum": 0,
    "hideHardwareSpecs": false,
    "memoryGiB": 32,
    "name": "ml.t3.2xlarge",
    "vcpuNum": 8
   },
   {
    "_defaultOrder": 4,
    "_isFastLaunch": true,
    "category": "General purpose",
    "gpuNum": 0,
    "hideHardwareSpecs": false,
    "memoryGiB": 8,
    "name": "ml.m5.large",
    "vcpuNum": 2
   },
   {
    "_defaultOrder": 5,
    "_isFastLaunch": false,
    "category": "General purpose",
    "gpuNum": 0,
    "hideHardwareSpecs": false,
    "memoryGiB": 16,
    "name": "ml.m5.xlarge",
    "vcpuNum": 4
   },
   {
    "_defaultOrder": 6,
    "_isFastLaunch": false,
    "category": "General purpose",
    "gpuNum": 0,
    "hideHardwareSpecs": false,
    "memoryGiB": 32,
    "name": "ml.m5.2xlarge",
    "vcpuNum": 8
   },
   {
    "_defaultOrder": 7,
    "_isFastLaunch": false,
    "category": "General purpose",
    "gpuNum": 0,
    "hideHardwareSpecs": false,
    "memoryGiB": 64,
    "name": "ml.m5.4xlarge",
    "vcpuNum": 16
   },
   {
    "_defaultOrder": 8,
    "_isFastLaunch": false,
    "category": "General purpose",
    "gpuNum": 0,
    "hideHardwareSpecs": false,
    "memoryGiB": 128,
    "name": "ml.m5.8xlarge",
    "vcpuNum": 32
   },
   {
    "_defaultOrder": 9,
    "_isFastLaunch": false,
    "category": "General purpose",
    "gpuNum": 0,
    "hideHardwareSpecs": false,
    "memoryGiB": 192,
    "name": "ml.m5.12xlarge",
    "vcpuNum": 48
   },
   {
    "_defaultOrder": 10,
    "_isFastLaunch": false,
    "category": "General purpose",
    "gpuNum": 0,
    "hideHardwareSpecs": false,
    "memoryGiB": 256,
    "name": "ml.m5.16xlarge",
    "vcpuNum": 64
   },
   {
    "_defaultOrder": 11,
    "_isFastLaunch": false,
    "category": "General purpose",
    "gpuNum": 0,
    "hideHardwareSpecs": false,
    "memoryGiB": 384,
    "name": "ml.m5.24xlarge",
    "vcpuNum": 96
   },
   {
    "_defaultOrder": 12,
    "_isFastLaunch": false,
    "category": "General purpose",
    "gpuNum": 0,
    "hideHardwareSpecs": false,
    "memoryGiB": 8,
    "name": "ml.m5d.large",
    "vcpuNum": 2
   },
   {
    "_defaultOrder": 13,
    "_isFastLaunch": false,
    "category": "General purpose",
    "gpuNum": 0,
    "hideHardwareSpecs": false,
    "memoryGiB": 16,
    "name": "ml.m5d.xlarge",
    "vcpuNum": 4
   },
   {
    "_defaultOrder": 14,
    "_isFastLaunch": false,
    "category": "General purpose",
    "gpuNum": 0,
    "hideHardwareSpecs": false,
    "memoryGiB": 32,
    "name": "ml.m5d.2xlarge",
    "vcpuNum": 8
   },
   {
    "_defaultOrder": 15,
    "_isFastLaunch": false,
    "category": "General purpose",
    "gpuNum": 0,
    "hideHardwareSpecs": false,
    "memoryGiB": 64,
    "name": "ml.m5d.4xlarge",
    "vcpuNum": 16
   },
   {
    "_defaultOrder": 16,
    "_isFastLaunch": false,
    "category": "General purpose",
    "gpuNum": 0,
    "hideHardwareSpecs": false,
    "memoryGiB": 128,
    "name": "ml.m5d.8xlarge",
    "vcpuNum": 32
   },
   {
    "_defaultOrder": 17,
    "_isFastLaunch": false,
    "category": "General purpose",
    "gpuNum": 0,
    "hideHardwareSpecs": false,
    "memoryGiB": 192,
    "name": "ml.m5d.12xlarge",
    "vcpuNum": 48
   },
   {
    "_defaultOrder": 18,
    "_isFastLaunch": false,
    "category": "General purpose",
    "gpuNum": 0,
    "hideHardwareSpecs": false,
    "memoryGiB": 256,
    "name": "ml.m5d.16xlarge",
    "vcpuNum": 64
   },
   {
    "_defaultOrder": 19,
    "_isFastLaunch": false,
    "category": "General purpose",
    "gpuNum": 0,
    "hideHardwareSpecs": false,
    "memoryGiB": 384,
    "name": "ml.m5d.24xlarge",
    "vcpuNum": 96
   },
   {
    "_defaultOrder": 20,
    "_isFastLaunch": false,
    "category": "General purpose",
    "gpuNum": 0,
    "hideHardwareSpecs": true,
    "memoryGiB": 0,
    "name": "ml.geospatial.interactive",
    "supportedImageNames": [
     "sagemaker-geospatial-v1-0"
    ],
    "vcpuNum": 0
   },
   {
    "_defaultOrder": 21,
    "_isFastLaunch": true,
    "category": "Compute optimized",
    "gpuNum": 0,
    "hideHardwareSpecs": false,
    "memoryGiB": 4,
    "name": "ml.c5.large",
    "vcpuNum": 2
   },
   {
    "_defaultOrder": 22,
    "_isFastLaunch": false,
    "category": "Compute optimized",
    "gpuNum": 0,
    "hideHardwareSpecs": false,
    "memoryGiB": 8,
    "name": "ml.c5.xlarge",
    "vcpuNum": 4
   },
   {
    "_defaultOrder": 23,
    "_isFastLaunch": false,
    "category": "Compute optimized",
    "gpuNum": 0,
    "hideHardwareSpecs": false,
    "memoryGiB": 16,
    "name": "ml.c5.2xlarge",
    "vcpuNum": 8
   },
   {
    "_defaultOrder": 24,
    "_isFastLaunch": false,
    "category": "Compute optimized",
    "gpuNum": 0,
    "hideHardwareSpecs": false,
    "memoryGiB": 32,
    "name": "ml.c5.4xlarge",
    "vcpuNum": 16
   },
   {
    "_defaultOrder": 25,
    "_isFastLaunch": false,
    "category": "Compute optimized",
    "gpuNum": 0,
    "hideHardwareSpecs": false,
    "memoryGiB": 72,
    "name": "ml.c5.9xlarge",
    "vcpuNum": 36
   },
   {
    "_defaultOrder": 26,
    "_isFastLaunch": false,
    "category": "Compute optimized",
    "gpuNum": 0,
    "hideHardwareSpecs": false,
    "memoryGiB": 96,
    "name": "ml.c5.12xlarge",
    "vcpuNum": 48
   },
   {
    "_defaultOrder": 27,
    "_isFastLaunch": false,
    "category": "Compute optimized",
    "gpuNum": 0,
    "hideHardwareSpecs": false,
    "memoryGiB": 144,
    "name": "ml.c5.18xlarge",
    "vcpuNum": 72
   },
   {
    "_defaultOrder": 28,
    "_isFastLaunch": false,
    "category": "Compute optimized",
    "gpuNum": 0,
    "hideHardwareSpecs": false,
    "memoryGiB": 192,
    "name": "ml.c5.24xlarge",
    "vcpuNum": 96
   },
   {
    "_defaultOrder": 29,
    "_isFastLaunch": true,
    "category": "Accelerated computing",
    "gpuNum": 1,
    "hideHardwareSpecs": false,
    "memoryGiB": 16,
    "name": "ml.g4dn.xlarge",
    "vcpuNum": 4
   },
   {
    "_defaultOrder": 30,
    "_isFastLaunch": false,
    "category": "Accelerated computing",
    "gpuNum": 1,
    "hideHardwareSpecs": false,
    "memoryGiB": 32,
    "name": "ml.g4dn.2xlarge",
    "vcpuNum": 8
   },
   {
    "_defaultOrder": 31,
    "_isFastLaunch": false,
    "category": "Accelerated computing",
    "gpuNum": 1,
    "hideHardwareSpecs": false,
    "memoryGiB": 64,
    "name": "ml.g4dn.4xlarge",
    "vcpuNum": 16
   },
   {
    "_defaultOrder": 32,
    "_isFastLaunch": false,
    "category": "Accelerated computing",
    "gpuNum": 1,
    "hideHardwareSpecs": false,
    "memoryGiB": 128,
    "name": "ml.g4dn.8xlarge",
    "vcpuNum": 32
   },
   {
    "_defaultOrder": 33,
    "_isFastLaunch": false,
    "category": "Accelerated computing",
    "gpuNum": 4,
    "hideHardwareSpecs": false,
    "memoryGiB": 192,
    "name": "ml.g4dn.12xlarge",
    "vcpuNum": 48
   },
   {
    "_defaultOrder": 34,
    "_isFastLaunch": false,
    "category": "Accelerated computing",
    "gpuNum": 1,
    "hideHardwareSpecs": false,
    "memoryGiB": 256,
    "name": "ml.g4dn.16xlarge",
    "vcpuNum": 64
   },
   {
    "_defaultOrder": 35,
    "_isFastLaunch": false,
    "category": "Accelerated computing",
    "gpuNum": 1,
    "hideHardwareSpecs": false,
    "memoryGiB": 61,
    "name": "ml.p3.2xlarge",
    "vcpuNum": 8
   },
   {
    "_defaultOrder": 36,
    "_isFastLaunch": false,
    "category": "Accelerated computing",
    "gpuNum": 4,
    "hideHardwareSpecs": false,
    "memoryGiB": 244,
    "name": "ml.p3.8xlarge",
    "vcpuNum": 32
   },
   {
    "_defaultOrder": 37,
    "_isFastLaunch": false,
    "category": "Accelerated computing",
    "gpuNum": 8,
    "hideHardwareSpecs": false,
    "memoryGiB": 488,
    "name": "ml.p3.16xlarge",
    "vcpuNum": 64
   },
   {
    "_defaultOrder": 38,
    "_isFastLaunch": false,
    "category": "Accelerated computing",
    "gpuNum": 8,
    "hideHardwareSpecs": false,
    "memoryGiB": 768,
    "name": "ml.p3dn.24xlarge",
    "vcpuNum": 96
   },
   {
    "_defaultOrder": 39,
    "_isFastLaunch": false,
    "category": "Memory Optimized",
    "gpuNum": 0,
    "hideHardwareSpecs": false,
    "memoryGiB": 16,
    "name": "ml.r5.large",
    "vcpuNum": 2
   },
   {
    "_defaultOrder": 40,
    "_isFastLaunch": false,
    "category": "Memory Optimized",
    "gpuNum": 0,
    "hideHardwareSpecs": false,
    "memoryGiB": 32,
    "name": "ml.r5.xlarge",
    "vcpuNum": 4
   },
   {
    "_defaultOrder": 41,
    "_isFastLaunch": false,
    "category": "Memory Optimized",
    "gpuNum": 0,
    "hideHardwareSpecs": false,
    "memoryGiB": 64,
    "name": "ml.r5.2xlarge",
    "vcpuNum": 8
   },
   {
    "_defaultOrder": 42,
    "_isFastLaunch": false,
    "category": "Memory Optimized",
    "gpuNum": 0,
    "hideHardwareSpecs": false,
    "memoryGiB": 128,
    "name": "ml.r5.4xlarge",
    "vcpuNum": 16
   },
   {
    "_defaultOrder": 43,
    "_isFastLaunch": false,
    "category": "Memory Optimized",
    "gpuNum": 0,
    "hideHardwareSpecs": false,
    "memoryGiB": 256,
    "name": "ml.r5.8xlarge",
    "vcpuNum": 32
   },
   {
    "_defaultOrder": 44,
    "_isFastLaunch": false,
    "category": "Memory Optimized",
    "gpuNum": 0,
    "hideHardwareSpecs": false,
    "memoryGiB": 384,
    "name": "ml.r5.12xlarge",
    "vcpuNum": 48
   },
   {
    "_defaultOrder": 45,
    "_isFastLaunch": false,
    "category": "Memory Optimized",
    "gpuNum": 0,
    "hideHardwareSpecs": false,
    "memoryGiB": 512,
    "name": "ml.r5.16xlarge",
    "vcpuNum": 64
   },
   {
    "_defaultOrder": 46,
    "_isFastLaunch": false,
    "category": "Memory Optimized",
    "gpuNum": 0,
    "hideHardwareSpecs": false,
    "memoryGiB": 768,
    "name": "ml.r5.24xlarge",
    "vcpuNum": 96
   },
   {
    "_defaultOrder": 47,
    "_isFastLaunch": false,
    "category": "Accelerated computing",
    "gpuNum": 1,
    "hideHardwareSpecs": false,
    "memoryGiB": 16,
    "name": "ml.g5.xlarge",
    "vcpuNum": 4
   },
   {
    "_defaultOrder": 48,
    "_isFastLaunch": false,
    "category": "Accelerated computing",
    "gpuNum": 1,
    "hideHardwareSpecs": false,
    "memoryGiB": 32,
    "name": "ml.g5.2xlarge",
    "vcpuNum": 8
   },
   {
    "_defaultOrder": 49,
    "_isFastLaunch": false,
    "category": "Accelerated computing",
    "gpuNum": 1,
    "hideHardwareSpecs": false,
    "memoryGiB": 64,
    "name": "ml.g5.4xlarge",
    "vcpuNum": 16
   },
   {
    "_defaultOrder": 50,
    "_isFastLaunch": false,
    "category": "Accelerated computing",
    "gpuNum": 1,
    "hideHardwareSpecs": false,
    "memoryGiB": 128,
    "name": "ml.g5.8xlarge",
    "vcpuNum": 32
   },
   {
    "_defaultOrder": 51,
    "_isFastLaunch": false,
    "category": "Accelerated computing",
    "gpuNum": 1,
    "hideHardwareSpecs": false,
    "memoryGiB": 256,
    "name": "ml.g5.16xlarge",
    "vcpuNum": 64
   },
   {
    "_defaultOrder": 52,
    "_isFastLaunch": false,
    "category": "Accelerated computing",
    "gpuNum": 4,
    "hideHardwareSpecs": false,
    "memoryGiB": 192,
    "name": "ml.g5.12xlarge",
    "vcpuNum": 48
   },
   {
    "_defaultOrder": 53,
    "_isFastLaunch": false,
    "category": "Accelerated computing",
    "gpuNum": 4,
    "hideHardwareSpecs": false,
    "memoryGiB": 384,
    "name": "ml.g5.24xlarge",
    "vcpuNum": 96
   },
   {
    "_defaultOrder": 54,
    "_isFastLaunch": false,
    "category": "Accelerated computing",
    "gpuNum": 8,
    "hideHardwareSpecs": false,
    "memoryGiB": 768,
    "name": "ml.g5.48xlarge",
    "vcpuNum": 192
   },
   {
    "_defaultOrder": 55,
    "_isFastLaunch": false,
    "category": "Accelerated computing",
    "gpuNum": 8,
    "hideHardwareSpecs": false,
    "memoryGiB": 1152,
    "name": "ml.p4d.24xlarge",
    "vcpuNum": 96
   },
   {
    "_defaultOrder": 56,
    "_isFastLaunch": false,
    "category": "Accelerated computing",
    "gpuNum": 8,
    "hideHardwareSpecs": false,
    "memoryGiB": 1152,
    "name": "ml.p4de.24xlarge",
    "vcpuNum": 96
   },
   {
    "_defaultOrder": 57,
    "_isFastLaunch": false,
    "category": "Accelerated computing",
    "gpuNum": 0,
    "hideHardwareSpecs": false,
    "memoryGiB": 32,
    "name": "ml.trn1.2xlarge",
    "vcpuNum": 8
   },
   {
    "_defaultOrder": 58,
    "_isFastLaunch": false,
    "category": "Accelerated computing",
    "gpuNum": 0,
    "hideHardwareSpecs": false,
    "memoryGiB": 512,
    "name": "ml.trn1.32xlarge",
    "vcpuNum": 128
   },
   {
    "_defaultOrder": 59,
    "_isFastLaunch": false,
    "category": "Accelerated computing",
    "gpuNum": 0,
    "hideHardwareSpecs": false,
    "memoryGiB": 512,
    "name": "ml.trn1n.32xlarge",
    "vcpuNum": 128
   }
  ],
  "instance_type": "ml.t3.medium",
  "kernelspec": {
   "display_name": "Python 3 (Data Science 3.0)",
   "language": "python",
   "name": "python3__SAGEMAKER_INTERNAL__arn:aws:sagemaker:us-east-1:081325390199:image/sagemaker-data-science-310-v1"
  },
  "language_info": {
   "codemirror_mode": {
    "name": "ipython",
    "version": 3
   },
   "file_extension": ".py",
   "mimetype": "text/x-python",
   "name": "python",
   "nbconvert_exporter": "python",
   "pygments_lexer": "ipython3",
   "version": "3.10.6"
  }
 },
 "nbformat": 4,
 "nbformat_minor": 5
}
