{
 "cells": [
  {
   "cell_type": "code",
   "execution_count": 3,
   "id": "16ba586b-db46-42c5-a56f-630ac22fa766",
   "metadata": {},
   "outputs": [
    {
     "name": "stdout",
     "output_type": "stream",
     "text": [
      "Collecting pyathena\n",
      "  Using cached pyathena-3.9.0-py3-none-any.whl.metadata (6.3 kB)\n",
      "Requirement already satisfied: boto3>=1.26.4 in /opt/conda/lib/python3.10/site-packages (from pyathena) (1.34.84)\n",
      "Requirement already satisfied: botocore>=1.29.4 in /opt/conda/lib/python3.10/site-packages (from pyathena) (1.34.84)\n",
      "Requirement already satisfied: fsspec in /opt/conda/lib/python3.10/site-packages (from pyathena) (2024.3.1)\n",
      "Requirement already satisfied: python-dateutil in /opt/conda/lib/python3.10/site-packages (from pyathena) (2.9.0)\n",
      "Requirement already satisfied: tenacity>=4.1.0 in /opt/conda/lib/python3.10/site-packages (from pyathena) (8.2.3)\n",
      "Requirement already satisfied: jmespath<2.0.0,>=0.7.1 in /opt/conda/lib/python3.10/site-packages (from boto3>=1.26.4->pyathena) (1.0.1)\n",
      "Requirement already satisfied: s3transfer<0.11.0,>=0.10.0 in /opt/conda/lib/python3.10/site-packages (from boto3>=1.26.4->pyathena) (0.10.1)\n",
      "Requirement already satisfied: urllib3!=2.2.0,<3,>=1.25.4 in /opt/conda/lib/python3.10/site-packages (from botocore>=1.29.4->pyathena) (2.2.1)\n",
      "Requirement already satisfied: six>=1.5 in /opt/conda/lib/python3.10/site-packages (from python-dateutil->pyathena) (1.16.0)\n",
      "Using cached pyathena-3.9.0-py3-none-any.whl (75 kB)\n",
      "Installing collected packages: pyathena\n",
      "Successfully installed pyathena-3.9.0\n",
      "\u001b[33mWARNING: Running pip as the 'root' user can result in broken permissions and conflicting behaviour with the system package manager. It is recommended to use a virtual environment instead: https://pip.pypa.io/warnings/venv\u001b[0m\u001b[33m\n",
      "\u001b[0m"
     ]
    }
   ],
   "source": [
    "!pip install pyathena"
   ]
  },
  {
   "cell_type": "code",
   "execution_count": 1,
   "id": "6ee73854-666e-44b7-bfe4-34a13050feff",
   "metadata": {
    "tags": []
   },
   "outputs": [
    {
     "name": "stdout",
     "output_type": "stream",
     "text": [
      "sagemaker.config INFO - Not applying SDK defaults from location: /etc/xdg/sagemaker/config.yaml\n",
      "sagemaker.config INFO - Not applying SDK defaults from location: /root/.config/sagemaker/config.yaml\n"
     ]
    }
   ],
   "source": [
    "from sagemaker import get_execution_role\n",
    "from time import gmtime, strftime, sleep\n",
    "from sagemaker.feature_store.feature_group import FeatureGroup\n",
    "import pyathena\n",
    "from pyathena import connect\n",
    "import boto3\n",
    "import pandas as pd\n",
    "import numpy as np\n",
    "import sagemaker\n",
    "from sagemaker import get_execution_role\n",
    "from sagemaker.session import Session\n",
    "from sagemaker.feature_store.feature_group import FeatureGroup\n",
    "from sagemaker.feature_store.feature_definition import FeatureDefinition, FeatureTypeEnum\n",
    "import io\n",
    "import time"
   ]
  },
  {
   "cell_type": "code",
   "execution_count": 2,
   "id": "e7d0eb42-58c2-45b0-ac97-8c2b380765dc",
   "metadata": {
    "tags": []
   },
   "outputs": [],
   "source": [
    "# Set up session\n",
    "region = boto3.Session().region_name\n",
    "sagemaker_session = Session(boto3.Session(region_name=region))\n",
    "s3_client = boto3.client(\"s3\", region_name=region)\n",
    "role = get_execution_role()\n"
   ]
  },
  {
   "cell_type": "code",
   "execution_count": 3,
   "id": "64c8d505-0032-4169-9cb0-5a2f8e328511",
   "metadata": {
    "tags": []
   },
   "outputs": [],
   "source": [
    "# S3 bucket and data paths\n",
    "bucket_name = \"housingdatafiles\"\n",
    "housing_key = \"housing.csv\"\n",
    "gmaps_key = \"housing_gmaps_data_raw.csv\"\n",
    "merged_file_key = \"housing3.csv\""
   ]
  },
  {
   "cell_type": "code",
   "execution_count": 5,
   "id": "a3173c68-c7fc-430a-b1d1-f77c1347852a",
   "metadata": {
    "tags": []
   },
   "outputs": [
    {
     "name": "stderr",
     "output_type": "stream",
     "text": [
      "/tmp/ipykernel_186/1349734240.py:6: FutureWarning: A value is trying to be set on a copy of a DataFrame or Series through chained assignment using an inplace method.\n",
      "The behavior will change in pandas 3.0. This inplace method will never work because the intermediate object on which we are setting values always behaves as a copy.\n",
      "\n",
      "For example, when doing 'df[col].method(value, inplace=True)', try using 'df.method({col: value}, inplace=True)' or df[col] = df[col].method(value) instead, to perform the operation inplace on the original object.\n",
      "\n",
      "\n",
      "  gmaps_data['neighborhood-political'].ffill(inplace=True)\n"
     ]
    }
   ],
   "source": [
    "# Load data\n",
    "housing_data = pd.read_csv(io.BytesIO(s3_client.get_object(Bucket=bucket_name, Key=housing_key)['Body'].read()))\n",
    "gmaps_data = pd.read_csv(io.BytesIO(s3_client.get_object(Bucket=bucket_name, Key=gmaps_key)['Body'].read()))\n",
    "\n",
    "# Forward fill missing neighborhood data\n",
    "gmaps_data['neighborhood-political'].ffill(inplace=True)\n",
    "\n",
    "# Merge datasets on latitude and longitude\n",
    "housing3 = housing_data.merge(gmaps_data[['latitude', 'longitude', 'neighborhood-political']], on=['latitude', 'longitude'], how='left')\n",
    "\n",
    "# Define \"neighborhood\" column\n",
    "housing3['neighborhood'] = housing3['neighborhood-political']"
   ]
  },
  {
   "cell_type": "code",
   "execution_count": 6,
   "id": "7a85f93f-252b-4e22-a9f4-e1e1ed770608",
   "metadata": {
    "tags": []
   },
   "outputs": [],
   "source": [
    "database_name = \"housingd_data3\" # create database name"
   ]
  },
  {
   "cell_type": "code",
   "execution_count": 7,
   "id": "272f0905-62af-417a-8dcd-309a85ca29a1",
   "metadata": {
    "tags": []
   },
   "outputs": [],
   "source": [
    "# Set S3 staging directory -- this is a temporary directory used for Athena queries\n",
    "s3_staging_dir = \"s3://{0}/athena/staging\".format(bucket_name)"
   ]
  },
  {
   "cell_type": "code",
   "execution_count": 8,
   "id": "f1d17bd6-5164-4aca-962f-cbda2d181549",
   "metadata": {
    "tags": []
   },
   "outputs": [],
   "source": [
    "conn = connect(region_name=region, s3_staging_dir=s3_staging_dir) # create connection"
   ]
  },
  {
   "cell_type": "code",
   "execution_count": 9,
   "id": "21edad50-60d2-4f53-b96f-d74979d2930b",
   "metadata": {
    "tags": []
   },
   "outputs": [
    {
     "name": "stdout",
     "output_type": "stream",
     "text": [
      "CREATE DATABASE IF NOT EXISTS housingd_data3\n"
     ]
    }
   ],
   "source": [
    "statement = \"CREATE DATABASE IF NOT EXISTS {}\".format(database_name) # Testing the database\n",
    "print(statement)"
   ]
  },
  {
   "cell_type": "code",
   "execution_count": 10,
   "id": "1c601288-3676-4788-99c3-eb89809c7b48",
   "metadata": {
    "tags": []
   },
   "outputs": [
    {
     "name": "stderr",
     "output_type": "stream",
     "text": [
      "/tmp/ipykernel_186/618921652.py:1: UserWarning: pandas only supports SQLAlchemy connectable (engine/connection) or database string URI or sqlite3 DBAPI2 connection. Other DBAPI2 objects are not tested. Please consider using SQLAlchemy.\n",
      "  pd.read_sql(statement, conn)\n"
     ]
    },
    {
     "data": {
      "text/html": [
       "<div>\n",
       "<style scoped>\n",
       "    .dataframe tbody tr th:only-of-type {\n",
       "        vertical-align: middle;\n",
       "    }\n",
       "\n",
       "    .dataframe tbody tr th {\n",
       "        vertical-align: top;\n",
       "    }\n",
       "\n",
       "    .dataframe thead th {\n",
       "        text-align: right;\n",
       "    }\n",
       "</style>\n",
       "<table border=\"1\" class=\"dataframe\">\n",
       "  <thead>\n",
       "    <tr style=\"text-align: right;\">\n",
       "      <th></th>\n",
       "    </tr>\n",
       "  </thead>\n",
       "  <tbody>\n",
       "  </tbody>\n",
       "</table>\n",
       "</div>"
      ],
      "text/plain": [
       "Empty DataFrame\n",
       "Columns: []\n",
       "Index: []"
      ]
     },
     "execution_count": 10,
     "metadata": {},
     "output_type": "execute_result"
    }
   ],
   "source": [
    "pd.read_sql(statement, conn)"
   ]
  },
  {
   "cell_type": "code",
   "execution_count": 21,
   "id": "4698df4e-243a-42cb-aa8d-bffdcfcb1508",
   "metadata": {
    "tags": []
   },
   "outputs": [
    {
     "name": "stderr",
     "output_type": "stream",
     "text": [
      "/tmp/ipykernel_22/2126029005.py:3: UserWarning: pandas only supports SQLAlchemy connectable (engine/connection) or database string URI or sqlite3 DBAPI2 connection. Other DBAPI2 objects are not tested. Please consider using SQLAlchemy.\n",
      "  df_show = pd.read_sql(statement, conn)\n"
     ]
    },
    {
     "data": {
      "text/html": [
       "<div>\n",
       "<style scoped>\n",
       "    .dataframe tbody tr th:only-of-type {\n",
       "        vertical-align: middle;\n",
       "    }\n",
       "\n",
       "    .dataframe tbody tr th {\n",
       "        vertical-align: top;\n",
       "    }\n",
       "\n",
       "    .dataframe thead th {\n",
       "        text-align: right;\n",
       "    }\n",
       "</style>\n",
       "<table border=\"1\" class=\"dataframe\">\n",
       "  <thead>\n",
       "    <tr style=\"text-align: right;\">\n",
       "      <th></th>\n",
       "      <th>database_name</th>\n",
       "    </tr>\n",
       "  </thead>\n",
       "  <tbody>\n",
       "    <tr>\n",
       "      <th>0</th>\n",
       "      <td>default</td>\n",
       "    </tr>\n",
       "    <tr>\n",
       "      <th>1</th>\n",
       "      <td>healthcare_analytics</td>\n",
       "    </tr>\n",
       "    <tr>\n",
       "      <th>2</th>\n",
       "      <td>housingd_data3</td>\n",
       "    </tr>\n",
       "    <tr>\n",
       "      <th>3</th>\n",
       "      <td>sagemaker_featurestore</td>\n",
       "    </tr>\n",
       "  </tbody>\n",
       "</table>\n",
       "</div>"
      ],
      "text/plain": [
       "            database_name\n",
       "0                 default\n",
       "1    healthcare_analytics\n",
       "2          housingd_data3\n",
       "3  sagemaker_featurestore"
      ]
     },
     "execution_count": 21,
     "metadata": {},
     "output_type": "execute_result"
    }
   ],
   "source": [
    "statement = \"SHOW DATABASES\"\n",
    "\n",
    "df_show = pd.read_sql(statement, conn)\n",
    "df_show"
   ]
  },
  {
   "cell_type": "code",
   "execution_count": 11,
   "id": "31cc9ff0-b0b9-481b-b6bf-a203fa9decac",
   "metadata": {
    "tags": []
   },
   "outputs": [],
   "source": [
    "from sagemaker.session import Session\n",
    "\n",
    "region = boto3.Session().region_name\n",
    "\n",
    "boto_session = boto3.Session(region_name=region)\n",
    "\n",
    "sagemaker_client = boto_session.client(service_name=\"sagemaker\", region_name=region)\n",
    "featurestore_runtime = boto_session.client(\n",
    "    service_name=\"sagemaker-featurestore-runtime\", region_name=region\n",
    ")\n",
    "\n",
    "feature_store_session = Session(\n",
    "    boto_session=boto_session,\n",
    "    sagemaker_client=sagemaker_client,\n",
    "    sagemaker_featurestore_runtime_client=featurestore_runtime,\n",
    ")\n"
   ]
  },
  {
   "cell_type": "code",
   "execution_count": 12,
   "id": "27e4fb9a-3c6c-4adf-8336-eabc2cd0ece5",
   "metadata": {
    "tags": []
   },
   "outputs": [
    {
     "name": "stdout",
     "output_type": "stream",
     "text": [
      "arn:aws:iam::002969758287:role/LabRole\n"
     ]
    }
   ],
   "source": [
    "# call for the role information.\n",
    "role = get_execution_role()\n",
    "print(role)"
   ]
  },
  {
   "cell_type": "code",
   "execution_count": null,
   "id": "67b53448-e9db-4af4-80f4-0175554737ec",
   "metadata": {},
   "outputs": [],
   "source": [
    "merged_file_key = 'housing3.csv'"
   ]
  },
  {
   "cell_type": "code",
   "execution_count": 13,
   "id": "db01f10a-f411-4b48-9c63-1d22c1c359c8",
   "metadata": {
    "tags": []
   },
   "outputs": [],
   "source": [
    "# Set Athena parameters\n",
    "database_name = \"housingd_data3\"\n",
    "table_name_csv = merged_file_key"
   ]
  },
  {
   "cell_type": "code",
   "execution_count": 15,
   "id": "ba84d5b2-3d14-4743-97c1-a6b8c5dba4c4",
   "metadata": {
    "tags": []
   },
   "outputs": [
    {
     "data": {
      "text/plain": [
       "'s3://housingdatafiles/housing_data3/data/feature-store'"
      ]
     },
     "execution_count": 15,
     "metadata": {},
     "output_type": "execute_result"
    }
   ],
   "source": [
    "default_s3_bucket_name = feature_store_session.default_bucket()\n",
    "prefix = \"housing_data3/data/feature-store\"\n",
    "s3_uri=f\"s3://{bucket_name}/{prefix}\"\n",
    "\n",
    "s3_uri"
   ]
  },
  {
   "cell_type": "code",
   "execution_count": 16,
   "id": "581af243-f25e-4dd5-9552-b84b56c193ab",
   "metadata": {
    "tags": []
   },
   "outputs": [],
   "source": [
    "baseline_feature_group = FeatureGroup(\n",
    "    name='baseline_feature_group', sagemaker_session=feature_store_session\n",
    ")"
   ]
  },
  {
   "cell_type": "code",
   "execution_count": 22,
   "id": "fe3fd26a-90e3-4a62-8ffe-81c520240a3b",
   "metadata": {
    "tags": []
   },
   "outputs": [
    {
     "data": {
      "text/plain": [
       "[FeatureDefinition(feature_name='longitude', feature_type=<FeatureTypeEnum.FRACTIONAL: 'Fractional'>, collection_type=None),\n",
       " FeatureDefinition(feature_name='latitude', feature_type=<FeatureTypeEnum.FRACTIONAL: 'Fractional'>, collection_type=None),\n",
       " FeatureDefinition(feature_name='housing_median_age', feature_type=<FeatureTypeEnum.FRACTIONAL: 'Fractional'>, collection_type=None),\n",
       " FeatureDefinition(feature_name='total_rooms', feature_type=<FeatureTypeEnum.FRACTIONAL: 'Fractional'>, collection_type=None),\n",
       " FeatureDefinition(feature_name='total_bedrooms', feature_type=<FeatureTypeEnum.FRACTIONAL: 'Fractional'>, collection_type=None),\n",
       " FeatureDefinition(feature_name='population', feature_type=<FeatureTypeEnum.FRACTIONAL: 'Fractional'>, collection_type=None),\n",
       " FeatureDefinition(feature_name='households', feature_type=<FeatureTypeEnum.FRACTIONAL: 'Fractional'>, collection_type=None),\n",
       " FeatureDefinition(feature_name='median_income', feature_type=<FeatureTypeEnum.FRACTIONAL: 'Fractional'>, collection_type=None),\n",
       " FeatureDefinition(feature_name='median_house_value', feature_type=<FeatureTypeEnum.FRACTIONAL: 'Fractional'>, collection_type=None),\n",
       " FeatureDefinition(feature_name='ocean_proximity', feature_type=<FeatureTypeEnum.STRING: 'String'>, collection_type=None),\n",
       " FeatureDefinition(feature_name='neighborhood-political', feature_type=<FeatureTypeEnum.STRING: 'String'>, collection_type=None),\n",
       " FeatureDefinition(feature_name='neighborhood', feature_type=<FeatureTypeEnum.STRING: 'String'>, collection_type=None),\n",
       " FeatureDefinition(feature_name='ocean_proximity_<1H OCEAN', feature_type=<FeatureTypeEnum.INTEGRAL: 'Integral'>, collection_type=None),\n",
       " FeatureDefinition(feature_name='ocean_proximity_INLAND', feature_type=<FeatureTypeEnum.INTEGRAL: 'Integral'>, collection_type=None),\n",
       " FeatureDefinition(feature_name='ocean_proximity_ISLAND', feature_type=<FeatureTypeEnum.INTEGRAL: 'Integral'>, collection_type=None),\n",
       " FeatureDefinition(feature_name='ocean_proximity_NEAR BAY', feature_type=<FeatureTypeEnum.INTEGRAL: 'Integral'>, collection_type=None),\n",
       " FeatureDefinition(feature_name='ocean_proximity_NEAR OCEAN', feature_type=<FeatureTypeEnum.INTEGRAL: 'Integral'>, collection_type=None),\n",
       " FeatureDefinition(feature_name='median_house_age_grouped', feature_type=<FeatureTypeEnum.FRACTIONAL: 'Fractional'>, collection_type=None),\n",
       " FeatureDefinition(feature_name='bedrooms_per_household', feature_type=<FeatureTypeEnum.FRACTIONAL: 'Fractional'>, collection_type=None),\n",
       " FeatureDefinition(feature_name='event_time', feature_type=<FeatureTypeEnum.FRACTIONAL: 'Fractional'>, collection_type=None)]"
      ]
     },
     "execution_count": 22,
     "metadata": {},
     "output_type": "execute_result"
    }
   ],
   "source": [
    "import time\n",
    "import pandas as pd\n",
    "\n",
    "# Load your CSV file into a DataFrame\n",
    "merged_file_path = \"s3://housingdatafiles/housing3.csv\"  \n",
    "merged_file_key = pd.read_csv(merged_file_path)  # Now merged_file_key is a DataFrame\n",
    "\n",
    "\n",
    "# Get the current time in seconds for the event_time feature\n",
    "current_time_sec = int(round(time.time()))\n",
    "\n",
    "# Define helper function to cast object types to string\n",
    "def cast_object_to_string(data_frame):\n",
    "    for label in data_frame.columns:\n",
    "        if data_frame.dtypes[label] == \"object\":\n",
    "            data_frame[label] = data_frame[label].astype(\"str\").astype(\"string\")\n",
    "\n",
    "# Cast object dtype to string\n",
    "cast_object_to_string(merged_file_key)\n",
    "\n",
    "# Convert boolean columns to integers for compatibility with Feature Store\n",
    "for label in merged_file_key.select_dtypes(include=['bool']).columns:\n",
    "    merged_file_key[label] = merged_file_key[label].astype(\"int\")\n",
    "\n",
    "# Define record identifier and event time feature names\n",
    "record_identifier_feature_name = \"neighborhood\"\n",
    "event_time_feature_name = \"event_time\"\n",
    "\n",
    "# Append event_time feature to the DataFrame\n",
    "merged_file_key[event_time_feature_name] = pd.Series(\n",
    "    [current_time_sec] * len(merged_file_key), dtype=\"float64\" \n",
    ")\n",
    "\n",
    "# Load feature definitions into the feature group\n",
    "# Replace baseline_feature_group with the actual feature group instance\n",
    "baseline_feature_group.load_feature_definitions(data_frame=merged_file_key)\n",
    "\n"
   ]
  },
  {
   "cell_type": "code",
   "execution_count": 26,
   "id": "13bef643-420e-42b4-a0bc-b7d27b60144c",
   "metadata": {
    "tags": []
   },
   "outputs": [
    {
     "name": "stdout",
     "output_type": "stream",
     "text": [
      "Existing feature group deleted. Recreating with the same name.\n"
     ]
    }
   ],
   "source": [
    "# Delete the existing feature group by name\n",
    "baseline_feature_group.delete()\n",
    "print(\"Existing feature group deleted. Recreating with the same name.\")"
   ]
  },
  {
   "cell_type": "code",
   "execution_count": 27,
   "id": "4f7c1196-c232-4eb9-a821-40169e220c1f",
   "metadata": {
    "tags": []
   },
   "outputs": [
    {
     "name": "stdout",
     "output_type": "stream",
     "text": [
      "Updated column names: Index(['longitude', 'latitude', 'housing_median_age', 'total_rooms',\n",
      "       'total_bedrooms', 'population', 'households', 'median_income',\n",
      "       'median_house_value', 'ocean_proximity', 'neighborhood-political',\n",
      "       'neighborhood', 'ocean_proximity_1h_ocean', 'ocean_proximity_INLAND',\n",
      "       'ocean_proximity_ISLAND', 'ocean_proximity_near_bay',\n",
      "       'ocean_proximity_near_ocean', 'median_house_age_grouped',\n",
      "       'bedrooms_per_household', 'event_time'],\n",
      "      dtype='object')\n",
      "Feature Group creation initiated.\n",
      "Waiting for Feature Group Creation\n",
      "Waiting for Feature Group Creation\n",
      "Waiting for Feature Group Creation\n",
      "Waiting for Feature Group Creation\n",
      "FeatureGroup baseline_feature_group successfully created.\n"
     ]
    }
   ],
   "source": [
    "import time\n",
    "\n",
    "# Standardize feature names to remove unsupported characters\n",
    "merged_file_key.columns = merged_file_key.columns.str.replace(\"<1H OCEAN\", \"1h_ocean\", regex=False)\n",
    "merged_file_key.columns = merged_file_key.columns.str.replace(\"NEAR BAY\", \"near_bay\", regex=False)\n",
    "merged_file_key.columns = merged_file_key.columns.str.replace(\"NEAR OCEAN\", \"near_ocean\", regex=False)\n",
    "merged_file_key.columns = merged_file_key.columns.str.replace(\" \", \"_\", regex=False)  # For any other spaces\n",
    "\n",
    "# Verify column names are cleaned up\n",
    "print(\"Updated column names:\", merged_file_key.columns)\n",
    "\n",
    "# Add event time feature\n",
    "current_time_sec = int(round(time.time()))\n",
    "merged_file_key['event_time'] = pd.Series([current_time_sec] * len(merged_file_key), dtype=\"float64\")\n",
    "\n",
    "# Define feature definitions for the Feature Group\n",
    "features = [\n",
    "    FeatureDefinition(feature_name=col, feature_type=FeatureTypeEnum.FRACTIONAL if merged_file_key[col].dtype == 'float64' else FeatureTypeEnum.INTEGRAL)\n",
    "    if col != \"neighborhood\" else FeatureDefinition(feature_name=\"neighborhood\", feature_type=FeatureTypeEnum.STRING)\n",
    "    for col in merged_file_key.columns\n",
    "]\n",
    "\n",
    "# Load feature definitions to the feature group\n",
    "baseline_feature_group.load_feature_definitions(data_frame=merged_file_key)\n",
    "\n",
    "# Re-create the Feature Group\n",
    "try:\n",
    "    baseline_feature_group.create(\n",
    "        s3_uri=\"s3://housingdatafiles/feature-store4\",\n",
    "        record_identifier_name=\"neighborhood\",\n",
    "        event_time_feature_name=\"event_time\",\n",
    "        role_arn=role,\n",
    "        enable_online_store=True,\n",
    "    )\n",
    "    print(\"Feature Group creation initiated.\")\n",
    "    wait_for_feature_group_creation_complete(baseline_feature_group)\n",
    "except ClientError as e:\n",
    "    print(\"Error creating feature group:\", e)\n"
   ]
  },
  {
   "cell_type": "code",
   "execution_count": 28,
   "id": "ee9bae75-3eed-4865-8176-c13cd8a6b03d",
   "metadata": {
    "tags": []
   },
   "outputs": [
    {
     "data": {
      "text/plain": [
       "IngestionManagerPandas(feature_group_name='baseline_feature_group', feature_definitions={'longitude': {'FeatureName': 'longitude', 'FeatureType': 'Fractional'}, 'latitude': {'FeatureName': 'latitude', 'FeatureType': 'Fractional'}, 'housing_median_age': {'FeatureName': 'housing_median_age', 'FeatureType': 'Fractional'}, 'total_rooms': {'FeatureName': 'total_rooms', 'FeatureType': 'Fractional'}, 'total_bedrooms': {'FeatureName': 'total_bedrooms', 'FeatureType': 'Fractional'}, 'population': {'FeatureName': 'population', 'FeatureType': 'Fractional'}, 'households': {'FeatureName': 'households', 'FeatureType': 'Fractional'}, 'median_income': {'FeatureName': 'median_income', 'FeatureType': 'Fractional'}, 'median_house_value': {'FeatureName': 'median_house_value', 'FeatureType': 'Fractional'}, 'ocean_proximity': {'FeatureName': 'ocean_proximity', 'FeatureType': 'String'}, 'neighborhood-political': {'FeatureName': 'neighborhood-political', 'FeatureType': 'String'}, 'neighborhood': {'FeatureName': 'neighborhood', 'FeatureType': 'String'}, 'ocean_proximity_1h_ocean': {'FeatureName': 'ocean_proximity_1h_ocean', 'FeatureType': 'Integral'}, 'ocean_proximity_INLAND': {'FeatureName': 'ocean_proximity_INLAND', 'FeatureType': 'Integral'}, 'ocean_proximity_ISLAND': {'FeatureName': 'ocean_proximity_ISLAND', 'FeatureType': 'Integral'}, 'ocean_proximity_near_bay': {'FeatureName': 'ocean_proximity_near_bay', 'FeatureType': 'Integral'}, 'ocean_proximity_near_ocean': {'FeatureName': 'ocean_proximity_near_ocean', 'FeatureType': 'Integral'}, 'median_house_age_grouped': {'FeatureName': 'median_house_age_grouped', 'FeatureType': 'Fractional'}, 'bedrooms_per_household': {'FeatureName': 'bedrooms_per_household', 'FeatureType': 'Fractional'}, 'event_time': {'FeatureName': 'event_time', 'FeatureType': 'Fractional'}}, sagemaker_fs_runtime_client_config=<botocore.config.Config object at 0x7f82bc796980>, sagemaker_session=<sagemaker.session.Session object at 0x7f82be659cc0>, max_workers=5, max_processes=1, profile_name=None, _async_result=<multiprocess.pool.MapResult object at 0x7f82bb735600>, _processing_pool=<pool ProcessPool(ncpus=1)>, _failed_indices=[])"
      ]
     },
     "execution_count": 28,
     "metadata": {},
     "output_type": "execute_result"
    }
   ],
   "source": [
    "baseline_feature_group.ingest(data_frame=merged_file_key, max_workers=5, wait=True)"
   ]
  },
  {
   "cell_type": "code",
   "execution_count": 33,
   "id": "e1dff649-b440-4d54-bce7-7ff6731157bd",
   "metadata": {
    "tags": []
   },
   "outputs": [
    {
     "name": "stdout",
     "output_type": "stream",
     "text": [
      "002969758287\n"
     ]
    }
   ],
   "source": [
    "account_id = boto3.client(\"sts\").get_caller_identity()[\"Account\"]\n",
    "print(account_id)\n",
    "\n",
    "baseline_feature_group_resolved_output_s3_uri = (\n",
    "    baseline_feature_group.describe()\n",
    "    .get(\"OfflineStoreConfig\")\n",
    "    .get(\"S3StorageConfig\")\n",
    "    .get(\"ResolvedOutputS3Uri\")\n",
    ")\n",
    "\n",
    "baseline_feature_group_s3_prefix = baseline_feature_group_resolved_output_s3_uri.replace(\n",
    "    f\"s3://housingdatafiles/feature-store4/002969758287\", \"\"\n",
    ")"
   ]
  },
  {
   "cell_type": "code",
   "execution_count": 34,
   "id": "7c756152-11ff-4295-b715-699f59cb4cf0",
   "metadata": {
    "tags": []
   },
   "outputs": [
    {
     "data": {
      "text/plain": [
       "'s3://housingdatafiles/feature-store4/002969758287/sagemaker/us-east-1/offline-store/baseline_feature_group-1730172276/data'"
      ]
     },
     "execution_count": 34,
     "metadata": {},
     "output_type": "execute_result"
    }
   ],
   "source": [
    "baseline_feature_group_resolved_output_s3_uri"
   ]
  },
  {
   "cell_type": "code",
   "execution_count": null,
   "id": "6950e583-9840-4c67-8153-6780b1043f26",
   "metadata": {
    "tags": []
   },
   "outputs": [],
   "source": [
    "s3_client = boto3.client(\"s3\", region_name=region)\n",
    "\n",
    "offline_store_contents = None\n",
    "while offline_store_contents is None:\n",
    "    objects_in_bucket = s3_client.list_objects(\n",
    "        Bucket=bucket_name, Prefix=baseline_feature_group_s3_prefix\n",
    "    )\n",
    "    if \"Contents\" in objects_in_bucket and len(objects_in_bucket[\"Contents\"]) > 1:\n",
    "        offline_store_contents = objects_in_bucket[\"Contents\"]\n",
    "    else:\n",
    "        print(\"Waiting for data in offline store...\\n\")\n",
    "        sleep(60)\n",
    "\n",
    "print(\"Data available.\")"
   ]
  },
  {
   "cell_type": "code",
   "execution_count": 38,
   "id": "26ab6067-c761-422d-815e-352223b93e5a",
   "metadata": {
    "tags": []
   },
   "outputs": [
    {
     "name": "stdout",
     "output_type": "stream",
     "text": [
      "Feature values for Brooktree:\n",
      "{'ResponseMetadata': {'RequestId': '2dc40edc-174a-487d-a1f4-aa7d8432be66', 'HTTPStatusCode': 200, 'HTTPHeaders': {'x-amzn-requestid': '2dc40edc-174a-487d-a1f4-aa7d8432be66', 'content-type': 'application/json', 'content-length': '1552', 'date': 'Tue, 29 Oct 2024 03:43:45 GMT'}, 'RetryAttempts': 0}, 'Record': [{'FeatureName': 'longitude', 'ValueAsString': '-121.88'}, {'FeatureName': 'latitude', 'ValueAsString': '37.4'}, {'FeatureName': 'housing_median_age', 'ValueAsString': '9.0'}, {'FeatureName': 'total_rooms', 'ValueAsString': '6751.0'}, {'FeatureName': 'population', 'ValueAsString': '4240.0'}, {'FeatureName': 'households', 'ValueAsString': '1438.0'}, {'FeatureName': 'median_income', 'ValueAsString': '5.34'}, {'FeatureName': 'median_house_value', 'ValueAsString': '257400.0'}, {'FeatureName': 'ocean_proximity', 'ValueAsString': '<1H OCEAN'}, {'FeatureName': 'neighborhood-political', 'ValueAsString': 'Brooktree'}, {'FeatureName': 'neighborhood', 'ValueAsString': 'Brooktree'}, {'FeatureName': 'ocean_proximity_1h_ocean', 'ValueAsString': '1'}, {'FeatureName': 'ocean_proximity_INLAND', 'ValueAsString': '0'}, {'FeatureName': 'ocean_proximity_ISLAND', 'ValueAsString': '0'}, {'FeatureName': 'ocean_proximity_near_bay', 'ValueAsString': '0'}, {'FeatureName': 'ocean_proximity_near_ocean', 'ValueAsString': '0'}, {'FeatureName': 'median_house_age_grouped', 'ValueAsString': '0.0'}, {'FeatureName': 'event_time', 'ValueAsString': '1730172276.0'}]}\n",
      "\n",
      "\n",
      "Feature values for Fisherman's Wharf:\n",
      "{'ResponseMetadata': {'RequestId': 'c9a7b654-e22d-47d8-a6c2-a9defa4becc9', 'HTTPStatusCode': 200, 'HTTPHeaders': {'x-amzn-requestid': 'c9a7b654-e22d-47d8-a6c2-a9defa4becc9', 'content-type': 'application/json', 'content-length': '1742', 'date': 'Tue, 29 Oct 2024 03:43:45 GMT'}, 'RetryAttempts': 0}, 'Record': [{'FeatureName': 'longitude', 'ValueAsString': '-122.42'}, {'FeatureName': 'latitude', 'ValueAsString': '37.81'}, {'FeatureName': 'housing_median_age', 'ValueAsString': '52.0'}, {'FeatureName': 'total_rooms', 'ValueAsString': '1314.0'}, {'FeatureName': 'total_bedrooms', 'ValueAsString': '317.0'}, {'FeatureName': 'population', 'ValueAsString': '473.0'}, {'FeatureName': 'households', 'ValueAsString': '250.0'}, {'FeatureName': 'median_income', 'ValueAsString': '4.3472'}, {'FeatureName': 'median_house_value', 'ValueAsString': '500000.0'}, {'FeatureName': 'ocean_proximity', 'ValueAsString': 'NEAR BAY'}, {'FeatureName': 'neighborhood-political', 'ValueAsString': \"Fisherman's Wharf\"}, {'FeatureName': 'neighborhood', 'ValueAsString': \"Fisherman's Wharf\"}, {'FeatureName': 'ocean_proximity_1h_ocean', 'ValueAsString': '0'}, {'FeatureName': 'ocean_proximity_INLAND', 'ValueAsString': '0'}, {'FeatureName': 'ocean_proximity_ISLAND', 'ValueAsString': '0'}, {'FeatureName': 'ocean_proximity_near_bay', 'ValueAsString': '1'}, {'FeatureName': 'ocean_proximity_near_ocean', 'ValueAsString': '0'}, {'FeatureName': 'median_house_age_grouped', 'ValueAsString': '50.0'}, {'FeatureName': 'bedrooms_per_household', 'ValueAsString': '1.268'}, {'FeatureName': 'event_time', 'ValueAsString': '1730172276.0'}]}\n",
      "\n",
      "\n",
      "Feature values for Los Osos:\n",
      "{'ResponseMetadata': {'RequestId': 'acb7faee-5fff-4c04-97d4-4d99c0080861', 'HTTPStatusCode': 200, 'HTTPHeaders': {'x-amzn-requestid': 'acb7faee-5fff-4c04-97d4-4d99c0080861', 'content-type': 'application/json', 'content-length': '1739', 'date': 'Tue, 29 Oct 2024 03:43:45 GMT'}, 'RetryAttempts': 0}, 'Record': [{'FeatureName': 'longitude', 'ValueAsString': '-120.67'}, {'FeatureName': 'latitude', 'ValueAsString': '35.3'}, {'FeatureName': 'housing_median_age', 'ValueAsString': '32.0'}, {'FeatureName': 'total_rooms', 'ValueAsString': '4202.0'}, {'FeatureName': 'total_bedrooms', 'ValueAsString': '986.0'}, {'FeatureName': 'population', 'ValueAsString': '2309.0'}, {'FeatureName': 'households', 'ValueAsString': '956.0'}, {'FeatureName': 'median_income', 'ValueAsString': '2.2165'}, {'FeatureName': 'median_house_value', 'ValueAsString': '231700.0'}, {'FeatureName': 'ocean_proximity', 'ValueAsString': 'NEAR OCEAN'}, {'FeatureName': 'neighborhood-political', 'ValueAsString': 'Los Osos'}, {'FeatureName': 'neighborhood', 'ValueAsString': 'Los Osos'}, {'FeatureName': 'ocean_proximity_1h_ocean', 'ValueAsString': '0'}, {'FeatureName': 'ocean_proximity_INLAND', 'ValueAsString': '0'}, {'FeatureName': 'ocean_proximity_ISLAND', 'ValueAsString': '0'}, {'FeatureName': 'ocean_proximity_near_bay', 'ValueAsString': '0'}, {'FeatureName': 'ocean_proximity_near_ocean', 'ValueAsString': '1'}, {'FeatureName': 'median_house_age_grouped', 'ValueAsString': '30.0'}, {'FeatureName': 'bedrooms_per_household', 'ValueAsString': '1.0313807531380754'}, {'FeatureName': 'event_time', 'ValueAsString': '1730172276.0'}]}\n",
      "\n",
      "\n"
     ]
    }
   ],
   "source": [
    "import boto3\n",
    "\n",
    "# Initialize Feature Store runtime client\n",
    "featurestore_runtime = boto3.client(\"sagemaker-featurestore-runtime\", region_name=region)\n",
    "\n",
    "# Function to query a specific neighborhood\n",
    "def query_neighborhood(feature_group_name, neighborhood_name):\n",
    "    response = featurestore_runtime.get_record(\n",
    "        FeatureGroupName=feature_group_name,\n",
    "        RecordIdentifierValueAsString=neighborhood_name\n",
    "    )\n",
    "    return response\n",
    "\n",
    "# Define the feature group name\n",
    "feature_group_name = \"baseline_feature_group\"\n",
    "\n",
    "# List of neighborhoods to query\n",
    "neighborhoods = [\"Brooktree\", \"Fisherman's Wharf\", \"Los Osos\"]\n",
    "\n",
    "# Query each neighborhood and print the results\n",
    "for neighborhood in neighborhoods:\n",
    "    result = query_neighborhood(feature_group_name, neighborhood)\n",
    "    print(f\"Feature values for {neighborhood}:\")\n",
    "    print(result)\n",
    "    print(\"\\n\")\n"
   ]
  },
  {
   "cell_type": "markdown",
   "id": "2ae51113-e4bf-4e3c-8388-3512e9c9c293",
   "metadata": {},
   "source": [
    "\n",
    "\n",
    "Here are the feature values retrieved from the Feature Store for each neighborhood:\n",
    "\n",
    "1. Brooktree\n",
    "Location:\n",
    "Longitude: -121.88\n",
    "Latitude: 37.4\n",
    "Housing Details:\n",
    "Housing Median Age: 9.0\n",
    "Total Rooms: 6751.0\n",
    "Population: 4240.0\n",
    "Households: 1438.0\n",
    "Median Income: 5.34\n",
    "Median House Value: 257,400.0\n",
    "Ocean Proximity: <1H OCEAN\n",
    "Ocean Proximity Encodings:\n",
    "<1H OCEAN: 1\n",
    "Inland, Island, Near Bay, Near Ocean: 0\n",
    "Derived Features:\n",
    "Median House Age Grouped: 0.0\n",
    "Event Time: 1730172276.0\n",
    "\n",
    "2. Fisherman’s Wharf\n",
    "Location:\n",
    "Longitude: -122.42\n",
    "Latitude: 37.81\n",
    "Housing Details:\n",
    "Housing Median Age: 52.0\n",
    "Total Rooms: 1314.0\n",
    "Total Bedrooms: 317.0\n",
    "Population: 473.0\n",
    "Households: 250.0\n",
    "Median Income: 4.3472\n",
    "Median House Value: 500,000.0 (capped)\n",
    "Ocean Proximity: NEAR BAY\n",
    "Ocean Proximity Encodings:\n",
    "Near Bay: 1\n",
    "Other categories: 0\n",
    "Derived Features:\n",
    "Median House Age Grouped: 50.0\n",
    "Bedrooms per Household: 1.268\n",
    "Event Time: 1730172276.0\n",
    "\n",
    "3. Los Osos\n",
    "Location:\n",
    "Longitude: -120.67\n",
    "Latitude: 35.3\n",
    "Housing Details:\n",
    "Housing Median Age: 32.0\n",
    "Total Rooms: 4202.0\n",
    "Total Bedrooms: 986.0\n",
    "Population: 2309.0\n",
    "Households: 956.0\n",
    "Median Income: 2.2165\n",
    "Median House Value: 231,700.0\n",
    "Ocean Proximity: NEAR OCEAN\n",
    "Ocean Proximity Encodings:\n",
    "Near Ocean: 1\n",
    "Other categories: 0\n",
    "Derived Features:\n",
    "Median House Age Grouped: 30.0\n",
    "Bedrooms per Household: 1.031\n",
    "Event Time: 1730172276.0"
   ]
  },
  {
   "cell_type": "code",
   "execution_count": null,
   "id": "621a08c2-b282-44b1-a3da-1ef6b0635289",
   "metadata": {},
   "outputs": [],
   "source": []
  }
 ],
 "metadata": {
  "instance_type": "ml.t3.medium",
  "kernelspec": {
   "display_name": "Python 3 (Data Science 3.0)",
   "language": "python",
   "name": "python3__SAGEMAKER_INTERNAL__arn:aws:sagemaker:us-east-1:081325390199:image/sagemaker-data-science-310-v1"
  },
  "language_info": {
   "codemirror_mode": {
    "name": "ipython",
    "version": 3
   },
   "file_extension": ".py",
   "mimetype": "text/x-python",
   "name": "python",
   "nbconvert_exporter": "python",
   "pygments_lexer": "ipython3",
   "version": "3.10.6"
  }
 },
 "nbformat": 4,
 "nbformat_minor": 5
}
